{
 "cells": [
  {
   "cell_type": "code",
   "execution_count": 1,
   "metadata": {},
   "outputs": [],
   "source": [
    "import tensorflow as tf\n",
    "from tensorflow import keras\n",
    "from tensorflow.keras.datasets import mnist\n",
    "from tensorflow.keras import initializers\n",
    "from tensorflow.keras import regularizers\n",
    "from keras import Input\n",
    "import utils\n",
    "import metrics\n",
    "\n",
    "# MNIST dataset params\n",
    "num_classes = 10 # 0-9 digits\n",
    "num_features = 784 # img shape: 28*28\n",
    "\n",
    "# load data\n",
    "(X_train, y_train), (X_test, y_test) = mnist.load_data()\n",
    "\n",
    "# pre-process data\n",
    "X_train, y_train, X_test, y_test = utils.preprocess(X_train, y_train, X_test, y_test, num_classes, num_features, print_summary=False)\n",
    "\n",
    "from tensorflow.keras.utils import to_categorical\n",
    "\n",
    "# Convert target classes to categorical ones (one-hot encoding) - only for training and tuning\n",
    "y_train_enc = to_categorical(y_train, num_classes)\n",
    "y_test_enc = to_categorical(y_test, num_classes)"
   ]
  },
  {
   "cell_type": "code",
   "execution_count": 2,
   "metadata": {},
   "outputs": [],
   "source": [
    "# network loss function\n",
    "loss =tf.keras.losses.CategoricalCrossentropy()\n",
    "\n",
    "# network metrics\n",
    "eval_metrics = [metrics.f1]\n",
    "\n",
    "# training batch size\n",
    "batch_size = 256\n",
    "\n",
    "# training epochs\n",
    "epochs = 1000\n",
    "\n",
    "# print options during training\n",
    "verbose = 1\n",
    "\n",
    "# early stopping callback\n",
    "callback = tf.keras.callbacks.EarlyStopping(monitor='loss', patience=200)"
   ]
  },
  {
   "cell_type": "markdown",
   "metadata": {},
   "source": [
    "# **$1$. Fine Tuning**"
   ]
  },
  {
   "cell_type": "code",
   "execution_count": null,
   "metadata": {},
   "outputs": [],
   "source": [
    "import keras_tuner\n",
    "\n",
    "def build_model(hp):\n",
    "\n",
    "    # hyperparams\n",
    "    n_hidden_1      =   hp.Choice(\"units_1\", [64, 128])\n",
    "    n_hidden_2      =   hp.Choice(\"units_2\", [256, 512])\n",
    "    a_reg           =   hp.Choice(\"a_reg\", [0.1, 0.001, 0.000001])\n",
    "    learning_rate   =   hp.Choice(\"learning_rate\", [0.1, 0.01, 0.001])\n",
    "\n",
    "    # mlp model\n",
    "    mlp_rmsprop_ft = keras.Sequential(name=\"MLP_RMSProp_FT\")\n",
    "\n",
    "    mlp_rmsprop_ft.add(Input(shape=(num_features,)))\n",
    "\n",
    "    mlp_rmsprop_ft.add(keras.layers.Dense(name=\"hidden_layer_1\", units=n_hidden_1, activation=\"relu\", \n",
    "                        kernel_regularizer=regularizers.l2(a_reg), kernel_initializer=initializers.HeNormal()))\n",
    "\n",
    "    mlp_rmsprop_ft.add(keras.layers.Dense(name=\"hidden_layer_2\", units=n_hidden_2, activation=\"relu\", \n",
    "                        kernel_regularizer=regularizers.l2(a_reg), kernel_initializer=initializers.HeNormal()))\n",
    "\n",
    "    mlp_rmsprop_ft.add(keras.layers.Dense(name=\"output_layer\", units=num_classes, activation=\"softmax\", \n",
    "                        kernel_regularizer=regularizers.l2(a_reg), kernel_initializer=initializers.HeNormal()))\n",
    "    \n",
    "    mlp_rmsprop_ft.compile(optimizer=tf.keras.optimizers.RMSprop(learning_rate=learning_rate),\n",
    "                            loss=loss, \n",
    "                            metrics=eval_metrics)\n",
    "\n",
    "    return mlp_rmsprop_ft\n",
    "\n",
    "tuner = keras_tuner.BayesianOptimization(\n",
    "    hypermodel=build_model,\n",
    "    objective=\"val_loss\",\n",
    "    max_trials=50,\n",
    "    overwrite=True,\n",
    "    directory=\"tuning\",\n",
    "    project_name=\"mlp_tuning\",\n",
    ")\n",
    "\n",
    "# tuner = keras_tuner.RandomSearch(\n",
    "#     hypermodel=build_model,\n",
    "#     objective=\"val_loss\",\n",
    "#     max_trials=12,\n",
    "#     overwrite=True,\n",
    "#     directory=\"tuning\",\n",
    "#     project_name=\"mlp_tuning\",\n",
    "# )\n",
    "\n",
    "tuner.search_space_summary()"
   ]
  },
  {
   "cell_type": "code",
   "execution_count": null,
   "metadata": {},
   "outputs": [],
   "source": [
    "tuner.search(X_train, y_train_enc, epochs=epochs, batch_size=batch_size, validation_data=(X_test, y_test_enc), verbose=verbose, callbacks=[callback])"
   ]
  },
  {
   "cell_type": "code",
   "execution_count": null,
   "metadata": {},
   "outputs": [],
   "source": [
    "best_model = tuner.get_best_models()[0]\n",
    "best_hyperparameters = tuner.get_best_hyperparameters()[0]\n",
    "best_model.summary()\n",
    "print(best_hyperparameters.get(\"units_1\"))\n",
    "print(best_hyperparameters.get(\"units_2\"))\n",
    "print(best_hyperparameters.get(\"a_reg\"))\n",
    "print(best_hyperparameters.get(\"learning_rate\"))\n"
   ]
  },
  {
   "cell_type": "markdown",
   "metadata": {},
   "source": [
    "# **$2$. Optimal Model**"
   ]
  },
  {
   "cell_type": "markdown",
   "metadata": {},
   "source": [
    "## $a$. Training"
   ]
  },
  {
   "cell_type": "code",
   "execution_count": 3,
   "metadata": {},
   "outputs": [
    {
     "name": "stdout",
     "output_type": "stream",
     "text": [
      "Epoch 1/100\n",
      "1750/1750 [==============================] - 5s 3ms/step - loss: 0.6214 - f1: 0.9456 - val_loss: 0.3208 - val_f1: 0.9660\n",
      "Epoch 2/100\n",
      "1750/1750 [==============================] - 5s 3ms/step - loss: 0.2939 - f1: 0.9658 - val_loss: 0.2732 - val_f1: 0.9679\n",
      "Epoch 3/100\n",
      "1750/1750 [==============================] - 5s 3ms/step - loss: 0.2634 - f1: 0.9694 - val_loss: 0.2857 - val_f1: 0.9627\n",
      "Epoch 4/100\n",
      "1750/1750 [==============================] - 5s 3ms/step - loss: 0.2499 - f1: 0.9720 - val_loss: 0.2494 - val_f1: 0.9727\n",
      "Epoch 5/100\n",
      "1750/1750 [==============================] - 6s 3ms/step - loss: 0.2443 - f1: 0.9727 - val_loss: 0.2415 - val_f1: 0.9748\n",
      "Epoch 6/100\n",
      "1750/1750 [==============================] - 6s 3ms/step - loss: 0.2400 - f1: 0.9736 - val_loss: 0.2395 - val_f1: 0.9742\n",
      "Epoch 7/100\n",
      "1750/1750 [==============================] - 6s 3ms/step - loss: 0.2376 - f1: 0.9738 - val_loss: 0.2354 - val_f1: 0.9738\n",
      "Epoch 8/100\n",
      "1750/1750 [==============================] - 6s 3ms/step - loss: 0.2345 - f1: 0.9753 - val_loss: 0.2272 - val_f1: 0.9768\n",
      "Epoch 9/100\n",
      "1750/1750 [==============================] - 6s 3ms/step - loss: 0.2336 - f1: 0.9749 - val_loss: 0.2276 - val_f1: 0.9766\n",
      "Epoch 10/100\n",
      "1750/1750 [==============================] - 6s 3ms/step - loss: 0.2325 - f1: 0.9751 - val_loss: 0.2396 - val_f1: 0.9727\n",
      "Epoch 11/100\n",
      "1750/1750 [==============================] - 6s 3ms/step - loss: 0.2311 - f1: 0.9757 - val_loss: 0.2402 - val_f1: 0.9731\n",
      "Epoch 12/100\n",
      "1750/1750 [==============================] - 6s 3ms/step - loss: 0.2309 - f1: 0.9751 - val_loss: 0.2265 - val_f1: 0.9776\n",
      "Epoch 13/100\n",
      "1750/1750 [==============================] - 6s 3ms/step - loss: 0.2307 - f1: 0.9752 - val_loss: 0.2406 - val_f1: 0.9712\n",
      "Epoch 14/100\n",
      "1750/1750 [==============================] - 6s 3ms/step - loss: 0.2296 - f1: 0.9760 - val_loss: 0.2404 - val_f1: 0.9740\n",
      "Epoch 15/100\n",
      "1750/1750 [==============================] - 6s 3ms/step - loss: 0.2294 - f1: 0.9760 - val_loss: 0.2327 - val_f1: 0.9739\n",
      "Epoch 16/100\n",
      "1750/1750 [==============================] - 6s 3ms/step - loss: 0.2280 - f1: 0.9760 - val_loss: 0.2316 - val_f1: 0.9736\n",
      "Epoch 17/100\n",
      "1750/1750 [==============================] - 6s 3ms/step - loss: 0.2276 - f1: 0.9752 - val_loss: 0.2319 - val_f1: 0.9750\n",
      "Epoch 18/100\n",
      "1750/1750 [==============================] - 6s 3ms/step - loss: 0.2280 - f1: 0.9757 - val_loss: 0.2320 - val_f1: 0.9730\n",
      "Epoch 19/100\n",
      "1750/1750 [==============================] - 6s 3ms/step - loss: 0.2270 - f1: 0.9764 - val_loss: 0.2251 - val_f1: 0.9768\n",
      "Epoch 20/100\n",
      "1750/1750 [==============================] - 6s 3ms/step - loss: 0.2276 - f1: 0.9760 - val_loss: 0.2336 - val_f1: 0.9757\n",
      "Epoch 21/100\n",
      "1750/1750 [==============================] - 6s 3ms/step - loss: 0.2271 - f1: 0.9766 - val_loss: 0.2415 - val_f1: 0.9715\n",
      "Epoch 22/100\n",
      "1750/1750 [==============================] - 5s 3ms/step - loss: 0.2269 - f1: 0.9760 - val_loss: 0.2253 - val_f1: 0.9759\n",
      "Epoch 23/100\n",
      "1750/1750 [==============================] - 6s 3ms/step - loss: 0.2266 - f1: 0.9757 - val_loss: 0.2229 - val_f1: 0.9766\n",
      "Epoch 24/100\n",
      "1750/1750 [==============================] - 6s 3ms/step - loss: 0.2263 - f1: 0.9764 - val_loss: 0.2289 - val_f1: 0.9750\n",
      "Epoch 25/100\n",
      "1750/1750 [==============================] - 5s 3ms/step - loss: 0.2248 - f1: 0.9764 - val_loss: 0.2216 - val_f1: 0.9767\n",
      "Epoch 26/100\n",
      "1750/1750 [==============================] - 5s 3ms/step - loss: 0.2259 - f1: 0.9772 - val_loss: 0.2230 - val_f1: 0.9766\n",
      "Epoch 27/100\n",
      "1750/1750 [==============================] - 6s 3ms/step - loss: 0.2253 - f1: 0.9764 - val_loss: 0.2341 - val_f1: 0.9732\n",
      "Epoch 28/100\n",
      "1750/1750 [==============================] - 6s 3ms/step - loss: 0.2241 - f1: 0.9768 - val_loss: 0.2309 - val_f1: 0.9754\n",
      "Epoch 29/100\n",
      "1750/1750 [==============================] - 6s 3ms/step - loss: 0.2249 - f1: 0.9761 - val_loss: 0.2286 - val_f1: 0.9768\n",
      "Epoch 30/100\n",
      "1750/1750 [==============================] - 5s 3ms/step - loss: 0.2242 - f1: 0.9767 - val_loss: 0.2280 - val_f1: 0.9749\n",
      "Epoch 31/100\n",
      "1750/1750 [==============================] - 5s 3ms/step - loss: 0.2240 - f1: 0.9772 - val_loss: 0.2214 - val_f1: 0.9769\n",
      "Epoch 32/100\n",
      "1750/1750 [==============================] - 5s 3ms/step - loss: 0.2254 - f1: 0.9769 - val_loss: 0.2419 - val_f1: 0.9699\n",
      "Epoch 33/100\n",
      "1750/1750 [==============================] - 6s 3ms/step - loss: 0.2247 - f1: 0.9767 - val_loss: 0.2291 - val_f1: 0.9744\n",
      "Epoch 34/100\n",
      "1750/1750 [==============================] - 6s 3ms/step - loss: 0.2233 - f1: 0.9775 - val_loss: 0.2281 - val_f1: 0.9759\n",
      "Epoch 35/100\n",
      "1750/1750 [==============================] - 6s 3ms/step - loss: 0.2237 - f1: 0.9772 - val_loss: 0.2315 - val_f1: 0.9743\n",
      "Epoch 36/100\n",
      "1750/1750 [==============================] - 6s 3ms/step - loss: 0.2232 - f1: 0.9773 - val_loss: 0.2250 - val_f1: 0.9767\n",
      "Epoch 37/100\n",
      "1750/1750 [==============================] - 6s 3ms/step - loss: 0.2236 - f1: 0.9771 - val_loss: 0.2266 - val_f1: 0.9771\n",
      "Epoch 38/100\n",
      "1750/1750 [==============================] - 5s 3ms/step - loss: 0.2236 - f1: 0.9771 - val_loss: 0.2187 - val_f1: 0.9771\n",
      "Epoch 39/100\n",
      "1750/1750 [==============================] - 5s 3ms/step - loss: 0.2236 - f1: 0.9773 - val_loss: 0.2253 - val_f1: 0.9766\n",
      "Epoch 40/100\n",
      "1750/1750 [==============================] - 5s 3ms/step - loss: 0.2233 - f1: 0.9776 - val_loss: 0.2283 - val_f1: 0.9753\n",
      "Epoch 41/100\n",
      "1750/1750 [==============================] - 5s 3ms/step - loss: 0.2239 - f1: 0.9772 - val_loss: 0.2187 - val_f1: 0.9773\n",
      "Epoch 42/100\n",
      "1750/1750 [==============================] - 5s 3ms/step - loss: 0.2233 - f1: 0.9776 - val_loss: 0.2507 - val_f1: 0.9697\n",
      "Epoch 43/100\n",
      "1750/1750 [==============================] - 5s 3ms/step - loss: 0.2231 - f1: 0.9772 - val_loss: 0.2303 - val_f1: 0.9736\n",
      "Epoch 44/100\n",
      "1750/1750 [==============================] - 5s 3ms/step - loss: 0.2231 - f1: 0.9767 - val_loss: 0.2289 - val_f1: 0.9746\n",
      "Epoch 45/100\n",
      "1750/1750 [==============================] - 5s 3ms/step - loss: 0.2225 - f1: 0.9779 - val_loss: 0.2408 - val_f1: 0.9722\n",
      "Epoch 46/100\n",
      "1750/1750 [==============================] - 5s 3ms/step - loss: 0.2223 - f1: 0.9770 - val_loss: 0.2261 - val_f1: 0.9755\n",
      "Epoch 47/100\n",
      "1750/1750 [==============================] - 5s 3ms/step - loss: 0.2224 - f1: 0.9772 - val_loss: 0.2314 - val_f1: 0.9733\n",
      "Epoch 48/100\n",
      "1750/1750 [==============================] - 5s 3ms/step - loss: 0.2229 - f1: 0.9782 - val_loss: 0.2249 - val_f1: 0.9760\n",
      "Epoch 49/100\n",
      "1750/1750 [==============================] - 5s 3ms/step - loss: 0.2226 - f1: 0.9776 - val_loss: 0.2330 - val_f1: 0.9751\n",
      "Epoch 50/100\n",
      "1750/1750 [==============================] - 5s 3ms/step - loss: 0.2236 - f1: 0.9767 - val_loss: 0.2269 - val_f1: 0.9751\n",
      "Epoch 51/100\n",
      "1750/1750 [==============================] - 5s 3ms/step - loss: 0.2228 - f1: 0.9774 - val_loss: 0.2373 - val_f1: 0.9732\n",
      "Epoch 52/100\n",
      "1750/1750 [==============================] - 5s 3ms/step - loss: 0.2230 - f1: 0.9781 - val_loss: 0.2228 - val_f1: 0.9778\n",
      "Epoch 53/100\n",
      "1750/1750 [==============================] - 5s 3ms/step - loss: 0.2224 - f1: 0.9778 - val_loss: 0.2281 - val_f1: 0.9758\n",
      "Epoch 54/100\n",
      "1750/1750 [==============================] - 5s 3ms/step - loss: 0.2218 - f1: 0.9777 - val_loss: 0.2304 - val_f1: 0.9741\n",
      "Epoch 55/100\n",
      "1750/1750 [==============================] - 5s 3ms/step - loss: 0.2219 - f1: 0.9775 - val_loss: 0.2356 - val_f1: 0.9745\n",
      "Epoch 56/100\n",
      "1750/1750 [==============================] - 5s 3ms/step - loss: 0.2221 - f1: 0.9775 - val_loss: 0.2226 - val_f1: 0.9784\n",
      "Epoch 57/100\n",
      "1750/1750 [==============================] - 5s 3ms/step - loss: 0.2218 - f1: 0.9777 - val_loss: 0.2297 - val_f1: 0.9747\n",
      "Epoch 58/100\n",
      "1750/1750 [==============================] - 5s 3ms/step - loss: 0.2217 - f1: 0.9779 - val_loss: 0.2364 - val_f1: 0.9722\n",
      "Epoch 59/100\n",
      "1750/1750 [==============================] - 5s 3ms/step - loss: 0.2222 - f1: 0.9775 - val_loss: 0.2230 - val_f1: 0.9768\n",
      "Epoch 60/100\n",
      "1750/1750 [==============================] - 6s 3ms/step - loss: 0.2218 - f1: 0.9775 - val_loss: 0.2487 - val_f1: 0.9699\n",
      "Epoch 61/100\n",
      "1750/1750 [==============================] - 6s 3ms/step - loss: 0.2221 - f1: 0.9769 - val_loss: 0.2228 - val_f1: 0.9768\n",
      "Epoch 62/100\n",
      "1750/1750 [==============================] - 5s 3ms/step - loss: 0.2217 - f1: 0.9780 - val_loss: 0.2286 - val_f1: 0.9741\n",
      "Epoch 63/100\n",
      "1750/1750 [==============================] - 5s 3ms/step - loss: 0.2214 - f1: 0.9779 - val_loss: 0.2337 - val_f1: 0.9734\n",
      "Epoch 64/100\n",
      "1750/1750 [==============================] - 5s 3ms/step - loss: 0.2216 - f1: 0.9775 - val_loss: 0.2265 - val_f1: 0.9759\n",
      "Epoch 65/100\n",
      "1750/1750 [==============================] - 6s 3ms/step - loss: 0.2215 - f1: 0.9777 - val_loss: 0.2335 - val_f1: 0.9728\n",
      "Epoch 66/100\n",
      "1750/1750 [==============================] - 5s 3ms/step - loss: 0.2218 - f1: 0.9778 - val_loss: 0.2328 - val_f1: 0.9744\n",
      "Epoch 67/100\n",
      "1750/1750 [==============================] - 5s 3ms/step - loss: 0.2216 - f1: 0.9782 - val_loss: 0.2278 - val_f1: 0.9743\n",
      "Epoch 68/100\n",
      "1750/1750 [==============================] - 5s 3ms/step - loss: 0.2221 - f1: 0.9773 - val_loss: 0.2279 - val_f1: 0.9756\n",
      "Epoch 69/100\n",
      "1750/1750 [==============================] - 5s 3ms/step - loss: 0.2223 - f1: 0.9775 - val_loss: 0.2282 - val_f1: 0.9749\n",
      "Epoch 70/100\n",
      "1750/1750 [==============================] - 6s 3ms/step - loss: 0.2222 - f1: 0.9769 - val_loss: 0.2412 - val_f1: 0.9723\n",
      "Epoch 71/100\n",
      "1750/1750 [==============================] - 5s 3ms/step - loss: 0.2216 - f1: 0.9778 - val_loss: 0.2234 - val_f1: 0.9770\n",
      "Epoch 72/100\n",
      "1750/1750 [==============================] - 5s 3ms/step - loss: 0.2223 - f1: 0.9782 - val_loss: 0.2265 - val_f1: 0.9760\n",
      "Epoch 73/100\n",
      "1750/1750 [==============================] - 5s 3ms/step - loss: 0.2226 - f1: 0.9774 - val_loss: 0.2324 - val_f1: 0.9733\n",
      "Epoch 74/100\n",
      "1750/1750 [==============================] - 5s 3ms/step - loss: 0.2223 - f1: 0.9776 - val_loss: 0.2210 - val_f1: 0.9765\n",
      "Epoch 75/100\n",
      "1750/1750 [==============================] - 5s 3ms/step - loss: 0.2214 - f1: 0.9774 - val_loss: 0.2397 - val_f1: 0.9722\n",
      "Epoch 76/100\n",
      "1750/1750 [==============================] - 5s 3ms/step - loss: 0.2223 - f1: 0.9771 - val_loss: 0.2268 - val_f1: 0.9748\n",
      "Epoch 77/100\n",
      "1750/1750 [==============================] - 5s 3ms/step - loss: 0.2219 - f1: 0.9771 - val_loss: 0.2320 - val_f1: 0.9716\n",
      "Epoch 78/100\n",
      "1750/1750 [==============================] - 5s 3ms/step - loss: 0.2216 - f1: 0.9776 - val_loss: 0.2242 - val_f1: 0.9770\n",
      "Epoch 79/100\n",
      "1750/1750 [==============================] - 5s 3ms/step - loss: 0.2226 - f1: 0.9773 - val_loss: 0.2283 - val_f1: 0.9750\n",
      "Epoch 80/100\n",
      "1750/1750 [==============================] - 5s 3ms/step - loss: 0.2219 - f1: 0.9781 - val_loss: 0.2260 - val_f1: 0.9757\n",
      "Epoch 81/100\n",
      "1750/1750 [==============================] - 5s 3ms/step - loss: 0.2215 - f1: 0.9781 - val_loss: 0.2248 - val_f1: 0.9756\n",
      "Epoch 82/100\n",
      "1750/1750 [==============================] - 5s 3ms/step - loss: 0.2217 - f1: 0.9782 - val_loss: 0.2300 - val_f1: 0.9740\n",
      "Epoch 83/100\n",
      "1750/1750 [==============================] - 5s 3ms/step - loss: 0.2222 - f1: 0.9775 - val_loss: 0.2201 - val_f1: 0.9780\n",
      "Epoch 84/100\n",
      "1750/1750 [==============================] - 6s 3ms/step - loss: 0.2216 - f1: 0.9776 - val_loss: 0.2267 - val_f1: 0.9759\n",
      "Epoch 85/100\n",
      "1750/1750 [==============================] - 5s 3ms/step - loss: 0.2220 - f1: 0.9774 - val_loss: 0.2247 - val_f1: 0.9751\n",
      "Epoch 86/100\n",
      "1750/1750 [==============================] - 5s 3ms/step - loss: 0.2215 - f1: 0.9781 - val_loss: 0.2212 - val_f1: 0.9775\n",
      "Epoch 87/100\n",
      "1750/1750 [==============================] - 5s 3ms/step - loss: 0.2218 - f1: 0.9777 - val_loss: 0.2240 - val_f1: 0.9774\n",
      "Epoch 88/100\n",
      "1750/1750 [==============================] - 5s 3ms/step - loss: 0.2213 - f1: 0.9782 - val_loss: 0.2305 - val_f1: 0.9736\n",
      "Epoch 89/100\n",
      "1750/1750 [==============================] - 5s 3ms/step - loss: 0.2219 - f1: 0.9774 - val_loss: 0.2534 - val_f1: 0.9692\n",
      "Epoch 90/100\n",
      "1750/1750 [==============================] - 5s 3ms/step - loss: 0.2212 - f1: 0.9774 - val_loss: 0.2264 - val_f1: 0.9761\n",
      "Epoch 91/100\n",
      "1750/1750 [==============================] - 5s 3ms/step - loss: 0.2214 - f1: 0.9778 - val_loss: 0.2402 - val_f1: 0.9729\n",
      "Epoch 92/100\n",
      "1750/1750 [==============================] - 5s 3ms/step - loss: 0.2221 - f1: 0.9772 - val_loss: 0.2254 - val_f1: 0.9770\n",
      "Epoch 93/100\n",
      "1750/1750 [==============================] - 5s 3ms/step - loss: 0.2205 - f1: 0.9785 - val_loss: 0.2469 - val_f1: 0.9694\n",
      "Epoch 94/100\n",
      "1750/1750 [==============================] - 5s 3ms/step - loss: 0.2212 - f1: 0.9776 - val_loss: 0.2411 - val_f1: 0.9727\n",
      "Epoch 95/100\n",
      "1750/1750 [==============================] - 5s 3ms/step - loss: 0.2220 - f1: 0.9780 - val_loss: 0.2231 - val_f1: 0.9777\n",
      "Epoch 96/100\n",
      "1750/1750 [==============================] - 5s 3ms/step - loss: 0.2213 - f1: 0.9784 - val_loss: 0.2299 - val_f1: 0.9734\n",
      "Epoch 97/100\n",
      "1750/1750 [==============================] - 5s 3ms/step - loss: 0.2214 - f1: 0.9779 - val_loss: 0.2221 - val_f1: 0.9769\n",
      "Epoch 98/100\n",
      "1750/1750 [==============================] - 5s 3ms/step - loss: 0.2213 - f1: 0.9784 - val_loss: 0.2374 - val_f1: 0.9720\n",
      "Epoch 99/100\n",
      "1750/1750 [==============================] - 5s 3ms/step - loss: 0.2209 - f1: 0.9785 - val_loss: 0.2235 - val_f1: 0.9772\n",
      "Epoch 100/100\n",
      "1750/1750 [==============================] - 5s 3ms/step - loss: 0.2211 - f1: 0.9780 - val_loss: 0.2269 - val_f1: 0.9766\n"
     ]
    }
   ],
   "source": [
    "# TODO get params from tuning - currently using some random values\n",
    "n_hidden_1      =   128\n",
    "n_hidden_2      =   512\n",
    "a_reg           =   0.001\n",
    "learning_rate   =   0.001\n",
    "\n",
    "# mlp model\n",
    "mlp_rmsprop_opt = keras.Sequential(name=\"MLP_RMSProp_Opt\")\n",
    "\n",
    "mlp_rmsprop_opt.add(Input(shape=(num_features,)))\n",
    "\n",
    "mlp_rmsprop_opt.add(keras.layers.Dense(name=\"hidden_layer_1\", units=n_hidden_1, activation=\"relu\", \n",
    "                    kernel_regularizer=regularizers.l2(a_reg), kernel_initializer=initializers.HeNormal()))\n",
    "\n",
    "mlp_rmsprop_opt.add(keras.layers.Dense(name=\"hidden_layer_2\", units=n_hidden_2, activation=\"relu\", \n",
    "                    kernel_regularizer=regularizers.l2(a_reg), kernel_initializer=initializers.HeNormal()))\n",
    "\n",
    "mlp_rmsprop_opt.add(keras.layers.Dense(name=\"output_layer\", units=num_classes, activation=\"softmax\", \n",
    "                    kernel_regularizer=regularizers.l2(a_reg), kernel_initializer=initializers.HeNormal()))\n",
    "\n",
    "mlp_rmsprop_opt.compile(optimizer=tf.keras.optimizers.RMSprop(learning_rate=learning_rate),\n",
    "                        loss=loss, \n",
    "                        metrics=eval_metrics)\n",
    "\n",
    "history = mlp_rmsprop_opt.fit(X_train, y_train_enc, epochs=100, validation_data=(X_test, y_test_enc))"
   ]
  },
  {
   "cell_type": "markdown",
   "metadata": {},
   "source": [
    "## $b$. Results - Evaluation"
   ]
  },
  {
   "cell_type": "markdown",
   "metadata": {},
   "source": [
    "### $i)$ Confusion Matrix"
   ]
  },
  {
   "cell_type": "code",
   "execution_count": 4,
   "metadata": {},
   "outputs": [],
   "source": [
    "# predict classes\n",
    "y_pred = utils.predict_classes(mlp_rmsprop_opt, X_test)"
   ]
  },
  {
   "cell_type": "code",
   "execution_count": 5,
   "metadata": {},
   "outputs": [
    {
     "data": {
      "text/plain": [
       "<sklearn.metrics._plot.confusion_matrix.ConfusionMatrixDisplay at 0x1e0d8213ee0>"
      ]
     },
     "execution_count": 5,
     "metadata": {},
     "output_type": "execute_result"
    },
    {
     "data": {
      "image/png": "[encoded data removed]",
      "text/plain": [
       "<Figure size 432x288 with 2 Axes>"
      ]
     },
     "metadata": {
      "needs_background": "light"
     },
     "output_type": "display_data"
    }
   ],
   "source": [
    "from sklearn.metrics import confusion_matrix, ConfusionMatrixDisplay\n",
    "\n",
    "confusion_matrix_ = confusion_matrix(y_test, y_pred)\n",
    "ConfusionMatrixDisplay(confusion_matrix_).plot()"
   ]
  },
  {
   "cell_type": "code",
   "execution_count": 7,
   "metadata": {},
   "outputs": [
    {
     "name": "stdout",
     "output_type": "stream",
     "text": [
      "TN = 125556 \n",
      "FP = 444 \n",
      "FN = 444 \n",
      "TP = 13556 \n",
      "SUM = 140000\n",
      "Accuracy = 0.9936571428571429 \n",
      "Recall = 0.9682857142857143 \n",
      "Precision = 0.9682857142857143 \n",
      "F1 = 0.9682857142857143\n"
     ]
    },
    {
     "data": {
      "image/png": "[encoded data removed]",
      "text/plain": [
       "<Figure size 432x288 with 2 Axes>"
      ]
     },
     "metadata": {
      "needs_background": "light"
     },
     "output_type": "display_data"
    }
   ],
   "source": [
    "from sklearn.metrics import multilabel_confusion_matrix\n",
    "import numpy as np\n",
    "\n",
    "multilabel_confusion_matrix_ = multilabel_confusion_matrix(y_test, y_pred)\n",
    "confusion_matrix_ = np.sum(multilabel_confusion_matrix_, axis = 0)\n",
    "ConfusionMatrixDisplay(confusion_matrix_).plot()\n",
    "\n",
    "tn = confusion_matrix_[0][0]\n",
    "fp = confusion_matrix_[0][1]\n",
    "fn = confusion_matrix_[1][0]\n",
    "tp = confusion_matrix_[1][1]\n",
    "sum = tn + fp + fn + tp\n",
    "\n",
    "print(\"TN =\", tn, \"\\nFP =\", fp, \"\\nFN =\", fn, \"\\nTP =\", tp, \"\\nSUM =\", sum)\n",
    "\n",
    "accuracy = (tp + tn) / sum\n",
    "recall = tp / (tp + fn)\n",
    "precision = tp / (tp + fp)\n",
    "f1 = 2 * (precision * recall) / (precision + recall)\n",
    "print(\"Accuracy =\", accuracy, \"\\nRecall =\", recall, \"\\nPrecision =\", precision, \"\\nF1 =\", f1)"
   ]
  },
  {
   "cell_type": "markdown",
   "metadata": {},
   "source": [
    "### $ii)$ Learning Curves"
   ]
  },
  {
   "cell_type": "code",
   "execution_count": 8,
   "metadata": {},
   "outputs": [
    {
     "data": {
      "image/png": "[encoded data removed]",
      "text/plain": [
       "<Figure size 432x288 with 1 Axes>"
      ]
     },
     "metadata": {
      "needs_background": "light"
     },
     "output_type": "display_data"
    },
    {
     "data": {
      "image/png": "[encoded data removed]",
      "text/plain": [
       "<Figure size 432x288 with 1 Axes>"
      ]
     },
     "metadata": {
      "needs_background": "light"
     },
     "output_type": "display_data"
    }
   ],
   "source": [
    "import matplotlib.pyplot as plt\n",
    "\n",
    "loss_train = history.history[\"loss\"]\n",
    "loss_test = history.history[\"val_loss\"]\n",
    "\n",
    "f1_train = history.history[\"f1\"]\n",
    "f1_test = history.history[\"val_f1\"]\n",
    "\n",
    "plt.ion()\n",
    "\n",
    "plt.plot(loss_train, label=\"Training\")\n",
    "plt.plot(loss_test, label=\"Testing\")\n",
    "plt.title(mlp_rmsprop_opt.name + \" - Loss curves\")\n",
    "plt.legend()\n",
    "plt.grid()\n",
    "plt.savefig(\"fig/\" + mlp_rmsprop_opt.name + \"_Loss.jpg\", dpi=1200)\n",
    "plt.show()\n",
    "\n",
    "plt.plot(f1_train, label=\"Training\")\n",
    "plt.plot(f1_test, label=\"Testing\")\n",
    "plt.title(mlp_rmsprop_opt.name + \" - F1 curves\")\n",
    "plt.legend()\n",
    "plt.grid()\n",
    "plt.savefig(\"fig/\" + mlp_rmsprop_opt.name + \"_F1.jpg\", dpi=1200)\n",
    "plt.show()"
   ]
  }
 ],
 "metadata": {
  "kernelspec": {
   "display_name": "Python 3.9.0 64-bit",
   "language": "python",
   "name": "python3"
  },
  "language_info": {
   "codemirror_mode": {
    "name": "ipython",
    "version": 3
   },
   "file_extension": ".py",
   "mimetype": "text/x-python",
   "name": "python",
   "nbconvert_exporter": "python",
   "pygments_lexer": "ipython3",
   "version": "3.9.0"
  },
  "orig_nbformat": 4,
  "vscode": {
   "interpreter": {
    "hash": "81794d4967e6c3204c66dcd87b604927b115b27c00565d3d43f05ba2f3a2cb0d"
   }
  }
 },
 "nbformat": 4,
 "nbformat_minor": 2
}
