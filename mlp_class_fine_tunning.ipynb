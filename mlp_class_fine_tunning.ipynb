{
 "cells": [
  {
   "cell_type": "code",
   "execution_count": null,
   "metadata": {},
   "outputs": [],
   "source": [
    "import tensorflow as tf\n",
    "from tensorflow import keras\n",
    "from tensorflow.keras.datasets import mnist\n",
    "import utils\n",
    "\n",
    "# MNIST dataset params\n",
    "num_classes = 10 # 0-9 digits\n",
    "num_features = 784 # img shape: 28*28\n",
    "\n",
    "# load data\n",
    "(X_train, y_train), (X_test, y_test) = mnist.load_data()\n",
    "\n",
    "X_train, y_train, X_test, y_test = utils.preprocess(X_train, y_train, X_test, y_test, num_classes, num_features, print_summary=False)"
   ]
  },
  {
   "cell_type": "code",
   "execution_count": null,
   "metadata": {},
   "outputs": [],
   "source": [
    "# hidden layer sizes\n",
    "n_hidden_1 = 128\n",
    "n_hidden_2 = 256\n",
    "\n",
    "# network loss function\n",
    "loss =tf.keras.losses.SparseCategoricalCrossentropy()\n",
    "\n",
    "# network metrics\n",
    "metrics = ['accuracy']\n",
    "\n",
    "# training batch size\n",
    "batch_size = 256\n",
    "\n",
    "# training epochs\n",
    "epochs = 100\n",
    "\n",
    "# print options during training\n",
    "verbose = 0"
   ]
  },
  {
   "cell_type": "code",
   "execution_count": null,
   "metadata": {},
   "outputs": [],
   "source": [
    "a_reg = 0.01"
   ]
  },
  {
   "cell_type": "code",
   "execution_count": null,
   "metadata": {},
   "outputs": [],
   "source": [
    "from tensorflow import keras\n",
    "from keras import Input\n",
    "from tensorflow.keras import initializers\n",
    "from tensorflow.keras import regularizers\n",
    "\n",
    "# create model\n",
    "mlp_rmsprop_ft = keras.Sequential(name=\"MLP_RMSProp_FT\")\n",
    "\n",
    "mlp_rmsprop_ft.add(Input(shape=(num_features,)))\n",
    "\n",
    "mlp_rmsprop_ft.add(keras.layers.Dense(name=\"hidden_layer_1\", units=n_hidden_1, activation=\"relu\", \n",
    "                    kernel_regularizer=regularizers.l2(a_reg), kernel_initializer=tf.keras.initializers.HeNormal()))\n",
    "\n",
    "mlp_rmsprop_ft.add(keras.layers.Dense(name=\"hidden_layer_2\", units=n_hidden_2, activation=\"relu\", \n",
    "                    kernel_regularizer=regularizers.l2(a_reg), kernel_initializer=tf.keras.initializers.HeNormal()))\n",
    "\n",
    "mlp_rmsprop_ft.add(keras.layers.Dense(name=\"output_layer\", units=num_classes, activation=\"softmax\", \n",
    "                    kernel_regularizer=regularizers.l2(a_reg), kernel_initializer=tf.keras.initializers.HeNormal()))\n",
    "\n",
    "mlp_rmsprop_ft.summary()"
   ]
  },
  {
   "cell_type": "code",
   "execution_count": null,
   "metadata": {},
   "outputs": [],
   "source": [
    "# compile model\n",
    "mlp_rmsprop_ft.compile(optimizer=tf.keras.optimizers.Adam(),\n",
    "                loss=loss, \n",
    "                metrics=metrics)\n",
    "\n",
    "# train model\n",
    "mlp_rmsprop_ft_history = mlp_rmsprop_ft.fit(X_train, y_train, batch_size=batch_size, epochs=epochs, \n",
    "                        validation_data=(X_test, y_test), verbose=verbose)"
   ]
  },
  {
   "cell_type": "code",
   "execution_count": null,
   "metadata": {},
   "outputs": [],
   "source": [
    "# display results\n",
    "utils.disp_results(mlp_rmsprop_ft, X_train, y_train, X_test, y_test, mlp_rmsprop_ft_history)"
   ]
  }
 ],
 "metadata": {
  "kernelspec": {
   "display_name": "Python 3.9.0 64-bit",
   "language": "python",
   "name": "python3"
  },
  "language_info": {
   "codemirror_mode": {
    "name": "ipython",
    "version": 3
   },
   "file_extension": ".py",
   "mimetype": "text/x-python",
   "name": "python",
   "nbconvert_exporter": "python",
   "pygments_lexer": "ipython3",
   "version": "3.9.0"
  },
  "orig_nbformat": 4,
  "vscode": {
   "interpreter": {
    "hash": "81794d4967e6c3204c66dcd87b604927b115b27c00565d3d43f05ba2f3a2cb0d"
   }
  }
 },
 "nbformat": 4,
 "nbformat_minor": 2
}
