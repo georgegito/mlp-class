{
 "cells": [
  {
   "cell_type": "code",
   "execution_count": null,
   "metadata": {},
   "outputs": [],
   "source": [
    "import tensorflow as tf\n",
    "from tensorflow import keras\n",
    "from tensorflow.keras.datasets import mnist\n",
    "import utils\n",
    "\n",
    "# MNIST dataset params\n",
    "num_classes = 10 # 0-9 digits\n",
    "num_features = 784 # img shape: 28*28\n",
    "\n",
    "# load data\n",
    "(X_train, y_train), (X_test, y_test) = mnist.load_data()\n",
    "\n",
    "X_train, y_train, X_test, y_test = utils.preprocess(X_train, y_train, X_test, y_test, num_classes, num_features, print_summary=False)"
   ]
  },
  {
   "cell_type": "code",
   "execution_count": null,
   "metadata": {},
   "outputs": [],
   "source": [
    "# hidden layer sizes\n",
    "n_hidden_1 = 128\n",
    "n_hidden_2 = 256\n",
    "\n",
    "# network loss function\n",
    "loss =tf.keras.losses.SparseCategoricalCrossentropy()\n",
    "\n",
    "# network metrics\n",
    "metrics = ['accuracy']\n",
    "\n",
    "# training batch size\n",
    "batch_size = 256\n",
    "\n",
    "# training epochs\n",
    "epochs = 100\n",
    "\n",
    "# print options during training\n",
    "verbose = 0"
   ]
  },
  {
   "cell_type": "markdown",
   "metadata": {},
   "source": [
    "# **$1$. MLP with Adam optimizer**"
   ]
  },
  {
   "cell_type": "markdown",
   "metadata": {},
   "source": [
    "## $a$. Default Case"
   ]
  },
  {
   "cell_type": "code",
   "execution_count": null,
   "metadata": {},
   "outputs": [],
   "source": [
    "# create model\n",
    "mlp_adam_1 = utils.create_mlp(\"MLP_Adam_1\", \n",
    "                            n_hidden_1, n_hidden_2, \n",
    "                            num_features, num_classes)"
   ]
  },
  {
   "cell_type": "code",
   "execution_count": null,
   "metadata": {},
   "outputs": [],
   "source": [
    "# compile model\n",
    "mlp_adam_1.compile(optimizer=tf.keras.optimizers.Adam(),\n",
    "                loss=loss, \n",
    "                metrics=metrics)\n",
    "\n",
    "# train model\n",
    "mlp_adam_1_history = mlp_adam_1.fit(X_train, y_train, batch_size=batch_size, epochs=epochs, \n",
    "                        validation_data=(X_test, y_test), verbose=verbose)"
   ]
  },
  {
   "cell_type": "code",
   "execution_count": null,
   "metadata": {},
   "outputs": [],
   "source": [
    "# display results\n",
    "utils.disp_results(mlp_adam_1, X_train, y_train, X_test, y_test, mlp_adam_1_history)"
   ]
  },
  {
   "cell_type": "markdown",
   "metadata": {},
   "source": [
    "## $b$. $L2$ regularization"
   ]
  },
  {
   "cell_type": "markdown",
   "metadata": {},
   "source": [
    "### $i)$ $\\;\\alpha=0.1$"
   ]
  },
  {
   "cell_type": "code",
   "execution_count": null,
   "metadata": {},
   "outputs": [],
   "source": [
    "a_reg = 0.1"
   ]
  },
  {
   "cell_type": "code",
   "execution_count": null,
   "metadata": {},
   "outputs": [],
   "source": [
    "# create model\n",
    "mlp_adam_2 = utils.create_mlp(\"MLP_Adam_2\", \n",
    "                            n_hidden_1, n_hidden_2, \n",
    "                            num_features, num_classes, kernel_reg=\"l2\", a_reg=a_reg)"
   ]
  },
  {
   "cell_type": "code",
   "execution_count": null,
   "metadata": {},
   "outputs": [],
   "source": [
    "# compile model\n",
    "mlp_adam_2.compile(optimizer=tf.keras.optimizers.Adam(),\n",
    "                loss=loss, \n",
    "                metrics=metrics)\n",
    "\n",
    "# train model\n",
    "mlp_adam_2_history = mlp_adam_2.fit(X_train, y_train, batch_size=batch_size, epochs=epochs, \n",
    "                        validation_data=(X_test, y_test), verbose=verbose)"
   ]
  },
  {
   "cell_type": "code",
   "execution_count": null,
   "metadata": {},
   "outputs": [],
   "source": [
    "# display results\n",
    "utils.disp_results(mlp_adam_2, X_train, y_train, X_test, y_test, mlp_adam_2_history)"
   ]
  },
  {
   "cell_type": "markdown",
   "metadata": {},
   "source": [
    "### $ii)$ $\\;\\alpha=0.01$"
   ]
  },
  {
   "cell_type": "code",
   "execution_count": null,
   "metadata": {},
   "outputs": [],
   "source": [
    "a_reg = 0.01"
   ]
  },
  {
   "cell_type": "code",
   "execution_count": null,
   "metadata": {},
   "outputs": [],
   "source": [
    "# create model\n",
    "mlp_adam_3 = utils.create_mlp(\"MLP_Adam_3\", \n",
    "                            n_hidden_1, n_hidden_2, \n",
    "                            num_features, num_classes, kernel_reg=\"l2\", a_reg=a_reg)"
   ]
  },
  {
   "cell_type": "code",
   "execution_count": null,
   "metadata": {},
   "outputs": [],
   "source": [
    "# compile model\n",
    "mlp_adam_3.compile(optimizer=tf.keras.optimizers.Adam(),\n",
    "                loss=loss, \n",
    "                metrics=metrics)\n",
    "\n",
    "# train model\n",
    "mlp_adam_3_history = mlp_adam_3.fit(X_train, y_train, batch_size=batch_size, epochs=epochs, \n",
    "                        validation_data=(X_test, y_test), verbose=verbose)"
   ]
  },
  {
   "cell_type": "code",
   "execution_count": null,
   "metadata": {},
   "outputs": [],
   "source": [
    "# display results\n",
    "utils.disp_results(mlp_adam_3, X_train, y_train, X_test, y_test, mlp_adam_3_history)"
   ]
  },
  {
   "cell_type": "markdown",
   "metadata": {},
   "source": [
    "### $iii)$ $\\;\\alpha=0.001$"
   ]
  },
  {
   "cell_type": "code",
   "execution_count": null,
   "metadata": {},
   "outputs": [],
   "source": [
    "a_reg = 0.001"
   ]
  },
  {
   "cell_type": "code",
   "execution_count": null,
   "metadata": {},
   "outputs": [],
   "source": [
    "# create model\n",
    "mlp_adam_4 = utils.create_mlp(\"MLP_Adam_4\", \n",
    "                            n_hidden_1, n_hidden_2, \n",
    "                            num_features, num_classes, kernel_reg=\"l2\", a_reg=a_reg)"
   ]
  },
  {
   "cell_type": "code",
   "execution_count": null,
   "metadata": {},
   "outputs": [],
   "source": [
    "# compile model\n",
    "mlp_adam_4.compile(optimizer=tf.keras.optimizers.Adam(),\n",
    "                loss=loss, \n",
    "                metrics=metrics)\n",
    "\n",
    "# train model\n",
    "mlp_adam_4_history = mlp_adam_4.fit(X_train, y_train, batch_size=batch_size, epochs=epochs, \n",
    "                        validation_data=(X_test, y_test), verbose=verbose)"
   ]
  },
  {
   "cell_type": "code",
   "execution_count": null,
   "metadata": {},
   "outputs": [],
   "source": [
    "# display results\n",
    "utils.disp_results(mlp_adam_4, X_train, y_train, X_test, y_test, mlp_adam_4_history)"
   ]
  },
  {
   "cell_type": "markdown",
   "metadata": {},
   "source": [
    "## $c$. $L1$ regularization ($\\alpha=0.01$) & Dropout ($probability=0.3$)"
   ]
  },
  {
   "cell_type": "code",
   "execution_count": null,
   "metadata": {},
   "outputs": [],
   "source": [
    "a_reg = 0.01\n",
    "dropout_prob = 0.3"
   ]
  },
  {
   "cell_type": "code",
   "execution_count": null,
   "metadata": {},
   "outputs": [],
   "source": [
    "# create model\n",
    "mlp_adam_5 = utils.create_mlp(\"MLP_Adam_5\", \n",
    "                            n_hidden_1, n_hidden_2, \n",
    "                            num_features, num_classes, kernel_reg=\"l1\", a_reg=a_reg,\n",
    "                            dropout_layers=True, dropout_prob=dropout_prob)"
   ]
  },
  {
   "cell_type": "code",
   "execution_count": null,
   "metadata": {},
   "outputs": [],
   "source": [
    "# compile model\n",
    "mlp_adam_5.compile(optimizer=tf.keras.optimizers.Adam(),\n",
    "                loss=loss, \n",
    "                metrics=metrics)\n",
    "\n",
    "# train model\n",
    "mlp_adam_5_history = mlp_adam_5.fit(X_train, y_train, batch_size=batch_size, epochs=epochs, \n",
    "                        validation_data=(X_test, y_test), verbose=verbose)"
   ]
  },
  {
   "cell_type": "code",
   "execution_count": null,
   "metadata": {},
   "outputs": [],
   "source": [
    "# display results\n",
    "utils.disp_results(mlp_adam_5, X_train, y_train, X_test, y_test, mlp_adam_5_history)"
   ]
  },
  {
   "cell_type": "markdown",
   "metadata": {},
   "source": [
    "# **$2$. MLP with RMSProp optimizer**"
   ]
  },
  {
   "cell_type": "markdown",
   "metadata": {},
   "source": [
    "## $a$. Default Case"
   ]
  },
  {
   "cell_type": "markdown",
   "metadata": {},
   "source": [
    "### $i)$ $\\;\\rho=0.01$"
   ]
  },
  {
   "cell_type": "code",
   "execution_count": null,
   "metadata": {},
   "outputs": [],
   "source": [
    "rho = 0.01"
   ]
  },
  {
   "cell_type": "code",
   "execution_count": null,
   "metadata": {},
   "outputs": [],
   "source": [
    "# create model\n",
    "mlp_rmsprop_1 = utils.create_mlp(\"MLP_RMSProp_1\", \n",
    "                            n_hidden_1, n_hidden_2, \n",
    "                            num_features, num_classes)"
   ]
  },
  {
   "cell_type": "code",
   "execution_count": null,
   "metadata": {},
   "outputs": [],
   "source": [
    "# compile model\n",
    "mlp_rmsprop_1.compile(optimizer=tf.keras.optimizers.RMSprop(learning_rate=0.001, rho=rho),\n",
    "                    loss=loss, \n",
    "                    metrics=metrics)\n",
    "\n",
    "# train model\n",
    "mlp_rmsprop_1_history = mlp_rmsprop_1.fit(X_train, y_train, batch_size=batch_size, epochs=epochs, validation_data=(X_test, y_test), verbose=verbose)"
   ]
  },
  {
   "cell_type": "code",
   "execution_count": null,
   "metadata": {},
   "outputs": [],
   "source": [
    "# display results\n",
    "utils.disp_results(mlp_rmsprop_1, X_train, y_train, X_test, y_test, mlp_rmsprop_1_history)"
   ]
  },
  {
   "cell_type": "markdown",
   "metadata": {},
   "source": [
    "### $ii)$ $\\;\\rho=0.99$"
   ]
  },
  {
   "cell_type": "code",
   "execution_count": null,
   "metadata": {},
   "outputs": [],
   "source": [
    "rho = 0.99"
   ]
  },
  {
   "cell_type": "code",
   "execution_count": null,
   "metadata": {},
   "outputs": [],
   "source": [
    "# create model\n",
    "mlp_rmsprop_2 = utils.create_mlp(\"MLP_RMSProp_2\", \n",
    "                            n_hidden_1, n_hidden_2, \n",
    "                            num_features, num_classes)"
   ]
  },
  {
   "cell_type": "code",
   "execution_count": null,
   "metadata": {},
   "outputs": [],
   "source": [
    "# compile model\n",
    "mlp_rmsprop_2.compile(optimizer=tf.keras.optimizers.RMSprop(learning_rate=0.001, rho=rho),\n",
    "                    loss=loss, \n",
    "                    metrics=metrics)\n",
    "\n",
    "# train model\n",
    "mlp_rmsprop_2_history = mlp_rmsprop_2.fit(X_train, y_train, batch_size=batch_size, epochs=epochs, validation_data=(X_test, y_test), verbose=verbose)"
   ]
  },
  {
   "cell_type": "code",
   "execution_count": null,
   "metadata": {},
   "outputs": [],
   "source": [
    "# display results\n",
    "utils.disp_results(mlp_rmsprop_2, X_train, y_train, X_test, y_test, mlp_rmsprop_2_history)"
   ]
  },
  {
   "cell_type": "markdown",
   "metadata": {},
   "source": [
    "## $b$. $L2$ regularization ($\\alpha=0.01$)"
   ]
  },
  {
   "cell_type": "code",
   "execution_count": null,
   "metadata": {},
   "outputs": [],
   "source": [
    "a_reg = 0.01"
   ]
  },
  {
   "cell_type": "markdown",
   "metadata": {},
   "source": [
    "### $i)$ $\\;\\rho=0.01$"
   ]
  },
  {
   "cell_type": "code",
   "execution_count": null,
   "metadata": {},
   "outputs": [],
   "source": [
    "rho = 0.01"
   ]
  },
  {
   "cell_type": "code",
   "execution_count": null,
   "metadata": {},
   "outputs": [],
   "source": [
    "# create model\n",
    "mlp_rmsprop_3 = utils.create_mlp(\"MLP_RMSProp_3\", \n",
    "                            n_hidden_1, n_hidden_2, \n",
    "                            num_features, num_classes,\n",
    "                            kernel_reg=\"l2\", a_reg=a_reg)"
   ]
  },
  {
   "cell_type": "code",
   "execution_count": null,
   "metadata": {},
   "outputs": [],
   "source": [
    "# compile model\n",
    "mlp_rmsprop_3.compile(optimizer=tf.keras.optimizers.RMSprop(learning_rate=0.001, rho=rho),\n",
    "                    loss=loss, \n",
    "                    metrics=metrics)\n",
    "\n",
    "# train model\n",
    "mlp_rmsprop_3_history = mlp_rmsprop_3.fit(X_train, y_train, batch_size=batch_size, epochs=epochs, validation_data=(X_test, y_test), verbose=verbose)"
   ]
  },
  {
   "cell_type": "code",
   "execution_count": null,
   "metadata": {},
   "outputs": [],
   "source": [
    "# display results\n",
    "utils.disp_results(mlp_rmsprop_3, X_train, y_train, X_test, y_test, mlp_rmsprop_3_history)"
   ]
  },
  {
   "cell_type": "markdown",
   "metadata": {},
   "source": [
    "### $ii)$ $\\;\\rho=0.99$"
   ]
  },
  {
   "cell_type": "code",
   "execution_count": null,
   "metadata": {},
   "outputs": [],
   "source": [
    "rho = 0.99"
   ]
  },
  {
   "cell_type": "code",
   "execution_count": null,
   "metadata": {},
   "outputs": [],
   "source": [
    "# create model\n",
    "mlp_rmsprop_4 = utils.create_mlp(\"MLP_RMSProp_4\", \n",
    "                            n_hidden_1, n_hidden_2, \n",
    "                            num_features, num_classes,\n",
    "                            kernel_reg=\"l2\", a_reg=a_reg)"
   ]
  },
  {
   "cell_type": "code",
   "execution_count": null,
   "metadata": {},
   "outputs": [],
   "source": [
    "# compile model\n",
    "mlp_rmsprop_4.compile(optimizer=tf.keras.optimizers.RMSprop(learning_rate=0.001, rho=rho),\n",
    "                    loss=loss, \n",
    "                    metrics=metrics)\n",
    "\n",
    "# train model\n",
    "mlp_rmsprop_4_history = mlp_rmsprop_4.fit(X_train, y_train, batch_size=batch_size, epochs=epochs, validation_data=(X_test, y_test), verbose=verbose)"
   ]
  },
  {
   "cell_type": "code",
   "execution_count": null,
   "metadata": {},
   "outputs": [],
   "source": [
    "# display results\n",
    "utils.disp_results(mlp_rmsprop_4, X_train, y_train, X_test, y_test, mlp_rmsprop_4_history)"
   ]
  },
  {
   "cell_type": "markdown",
   "metadata": {},
   "source": [
    "## $c$. $L1$ regularization ($\\alpha=0.01$) & Dropout ($probability=0.3$)"
   ]
  },
  {
   "cell_type": "code",
   "execution_count": null,
   "metadata": {},
   "outputs": [],
   "source": [
    "a_reg = 0.01\n",
    "dropout_prob = 0.3"
   ]
  },
  {
   "cell_type": "markdown",
   "metadata": {},
   "source": [
    "### $i)$ $\\;\\rho=0.01$"
   ]
  },
  {
   "cell_type": "code",
   "execution_count": null,
   "metadata": {},
   "outputs": [],
   "source": [
    "rho = 0.01"
   ]
  },
  {
   "cell_type": "code",
   "execution_count": null,
   "metadata": {},
   "outputs": [],
   "source": [
    "# create model\n",
    "mlp_rmsprop_5 = utils.create_mlp(\"MLP_RMSProp_5\", \n",
    "                            n_hidden_1, n_hidden_2, \n",
    "                            num_features, num_classes, kernel_reg=\"l1\", a_reg=a_reg,\n",
    "                            dropout_layers=True, dropout_prob=dropout_prob)"
   ]
  },
  {
   "cell_type": "code",
   "execution_count": null,
   "metadata": {},
   "outputs": [],
   "source": [
    "# compile model\n",
    "mlp_rmsprop_5.compile(optimizer=tf.keras.optimizers.RMSprop(learning_rate=0.001, rho=rho),\n",
    "                    loss=loss, \n",
    "                    metrics=metrics)\n",
    "\n",
    "# train model\n",
    "mlp_rmsprop_5_history = mlp_rmsprop_5.fit(X_train, y_train, batch_size=batch_size, epochs=epochs, validation_data=(X_test, y_test), verbose=verbose)"
   ]
  },
  {
   "cell_type": "code",
   "execution_count": null,
   "metadata": {},
   "outputs": [],
   "source": [
    "# display results\n",
    "utils.disp_results(mlp_rmsprop_5, X_train, y_train, X_test, y_test, mlp_rmsprop_5_history)"
   ]
  },
  {
   "cell_type": "markdown",
   "metadata": {},
   "source": [
    "### $ii)$ $\\;\\rho=0.99$"
   ]
  },
  {
   "cell_type": "code",
   "execution_count": null,
   "metadata": {},
   "outputs": [],
   "source": [
    "rho = 0.99"
   ]
  },
  {
   "cell_type": "code",
   "execution_count": null,
   "metadata": {},
   "outputs": [],
   "source": [
    "# create model\n",
    "mlp_rmsprop_6 = utils.create_mlp(\"MLP_RMSProp_6\", \n",
    "                            n_hidden_1, n_hidden_2, \n",
    "                            num_features, num_classes, kernel_reg=\"l1\", a_reg=a_reg,\n",
    "                            dropout_layers=True, dropout_prob=dropout_prob)"
   ]
  },
  {
   "cell_type": "code",
   "execution_count": null,
   "metadata": {},
   "outputs": [],
   "source": [
    "# compile model\n",
    "mlp_rmsprop_6.compile(optimizer=tf.keras.optimizers.RMSprop(learning_rate=0.001, rho=rho),\n",
    "                    loss=loss, \n",
    "                    metrics=metrics)\n",
    "\n",
    "# train model\n",
    "mlp_rmsprop_6_history = mlp_rmsprop_6.fit(X_train, y_train, batch_size=batch_size, epochs=epochs, validation_data=(X_test, y_test), verbose=verbose)"
   ]
  },
  {
   "cell_type": "code",
   "execution_count": null,
   "metadata": {},
   "outputs": [],
   "source": [
    "# display results\n",
    "utils.disp_results(mlp_rmsprop_6, X_train, y_train, X_test, y_test, mlp_rmsprop_6_history)"
   ]
  },
  {
   "cell_type": "markdown",
   "metadata": {},
   "source": [
    "# **$3$. MLP with SGD optimizer**"
   ]
  },
  {
   "cell_type": "markdown",
   "metadata": {},
   "source": [
    "***Weight initializer**: Gaussian distribution, mean = 10*"
   ]
  },
  {
   "cell_type": "code",
   "execution_count": null,
   "metadata": {},
   "outputs": [],
   "source": [
    "gaussian_mean = 10"
   ]
  },
  {
   "cell_type": "markdown",
   "metadata": {},
   "source": [
    "## $a$. Default Case"
   ]
  },
  {
   "cell_type": "code",
   "execution_count": null,
   "metadata": {},
   "outputs": [],
   "source": [
    "# create model\n",
    "mlp_sgd_1 = utils.create_mlp(\"MLP_SGD_1\", \n",
    "                            n_hidden_1, n_hidden_2, \n",
    "                            num_features, num_classes,\n",
    "                            gaussian_init=True, gaussian_mean=gaussian_mean)"
   ]
  },
  {
   "cell_type": "code",
   "execution_count": null,
   "metadata": {},
   "outputs": [],
   "source": [
    "# compile model\n",
    "mlp_sgd_1.compile(optimizer=tf.keras.optimizers.SGD(learning_rate=0.01),\n",
    "              loss=loss, \n",
    "              metrics=metrics)\n",
    "\n",
    "# train model\n",
    "mlp_sgd_1_history = mlp_sgd_1.fit(X_train, y_train, batch_size=batch_size, epochs=epochs, validation_data=(X_test, y_test), verbose=verbose)"
   ]
  },
  {
   "cell_type": "code",
   "execution_count": null,
   "metadata": {},
   "outputs": [],
   "source": [
    "# display results\n",
    "utils.disp_results(mlp_sgd_1, X_train, y_train, X_test, y_test, mlp_sgd_1_history)"
   ]
  },
  {
   "cell_type": "markdown",
   "metadata": {},
   "source": [
    "## $b$. $L2$ regularization"
   ]
  },
  {
   "cell_type": "markdown",
   "metadata": {},
   "source": [
    "### $i)$ $\\;\\alpha=0.1$"
   ]
  },
  {
   "cell_type": "code",
   "execution_count": null,
   "metadata": {},
   "outputs": [],
   "source": [
    "a_reg = 0.1"
   ]
  },
  {
   "cell_type": "code",
   "execution_count": null,
   "metadata": {},
   "outputs": [],
   "source": [
    "# create model\n",
    "mlp_sgd_2 = utils.create_mlp(\"MLP_SGD_2\", \n",
    "                            n_hidden_1, n_hidden_2, \n",
    "                            num_features, num_classes,\n",
    "                            gaussian_init=True, gaussian_mean=gaussian_mean,\n",
    "                            kernel_reg=\"l2\", a_reg=a_reg)"
   ]
  },
  {
   "cell_type": "code",
   "execution_count": null,
   "metadata": {},
   "outputs": [],
   "source": [
    "# compile model\n",
    "mlp_sgd_2.compile(optimizer=tf.keras.optimizers.SGD(learning_rate=0.01),\n",
    "              loss=loss, \n",
    "              metrics=metrics)\n",
    "\n",
    "# train model\n",
    "mlp_sgd_2_history = mlp_sgd_2.fit(X_train, y_train, batch_size=batch_size, epochs=epochs, validation_data=(X_test, y_test), verbose=verbose)"
   ]
  },
  {
   "cell_type": "code",
   "execution_count": null,
   "metadata": {},
   "outputs": [],
   "source": [
    "# display results\n",
    "utils.disp_results(mlp_sgd_2, X_train, y_train, X_test, y_test, mlp_sgd_2_history)"
   ]
  },
  {
   "cell_type": "markdown",
   "metadata": {},
   "source": [
    "### $ii)$ $\\;\\alpha=0.01$"
   ]
  },
  {
   "cell_type": "code",
   "execution_count": null,
   "metadata": {},
   "outputs": [],
   "source": [
    "a_reg = 0.01"
   ]
  },
  {
   "cell_type": "code",
   "execution_count": null,
   "metadata": {},
   "outputs": [],
   "source": [
    "# create model\n",
    "mlp_sgd_3 = utils.create_mlp(\"MLP_SGD_3\", \n",
    "                            n_hidden_1, n_hidden_2, \n",
    "                            num_features, num_classes,\n",
    "                            gaussian_init=True, gaussian_mean=gaussian_mean,\n",
    "                            kernel_reg=\"l2\", a_reg=a_reg)"
   ]
  },
  {
   "cell_type": "code",
   "execution_count": null,
   "metadata": {},
   "outputs": [],
   "source": [
    "# compile model\n",
    "mlp_sgd_3.compile(optimizer=tf.keras.optimizers.SGD(learning_rate=0.01),\n",
    "              loss=loss, \n",
    "              metrics=metrics)\n",
    "\n",
    "# train model\n",
    "mlp_sgd_3_history = mlp_sgd_3.fit(X_train, y_train, batch_size=batch_size, epochs=epochs, validation_data=(X_test, y_test), verbose=verbose)"
   ]
  },
  {
   "cell_type": "code",
   "execution_count": null,
   "metadata": {},
   "outputs": [],
   "source": [
    "# display results\n",
    "utils.disp_results(mlp_sgd_3, X_train, y_train, X_test, y_test, mlp_sgd_3_history)"
   ]
  },
  {
   "cell_type": "markdown",
   "metadata": {},
   "source": [
    "## $c$. $L1$ regularization ($\\alpha=0.01$) & Dropout ($probability=0.3$)"
   ]
  },
  {
   "cell_type": "code",
   "execution_count": null,
   "metadata": {},
   "outputs": [],
   "source": [
    "a_reg = 0.01\n",
    "dropout_prob = 0.3"
   ]
  },
  {
   "cell_type": "code",
   "execution_count": null,
   "metadata": {},
   "outputs": [],
   "source": [
    "# create model\n",
    "mlp_sgd_4 = utils.create_mlp(\"MLP_SGD_4\", \n",
    "                            n_hidden_1, n_hidden_2, \n",
    "                            num_features, num_classes,\n",
    "                            gaussian_init=True, gaussian_mean=gaussian_mean,\n",
    "                            kernel_reg=\"l1\", a_reg=a_reg,\n",
    "                            dropout_layers=True, dropout_prob=dropout_prob)"
   ]
  },
  {
   "cell_type": "code",
   "execution_count": null,
   "metadata": {},
   "outputs": [],
   "source": [
    "# compile model\n",
    "mlp_sgd_4.compile(optimizer=tf.keras.optimizers.SGD(learning_rate=0.01),\n",
    "              loss=loss, \n",
    "              metrics=metrics)\n",
    "\n",
    "# train model\n",
    "mlp_sgd_4_history = mlp_sgd_4.fit(X_train, y_train, batch_size=batch_size, epochs=epochs, validation_data=(X_test, y_test), verbose=verbose)"
   ]
  },
  {
   "cell_type": "code",
   "execution_count": null,
   "metadata": {},
   "outputs": [],
   "source": [
    "# display results\n",
    "utils.disp_results(mlp_sgd_4, X_train, y_train, X_test, y_test, mlp_sgd_4_history)"
   ]
  }
 ],
 "metadata": {
  "kernelspec": {
   "display_name": "Python 3.9.0 64-bit",
   "language": "python",
   "name": "python3"
  },
  "language_info": {
   "codemirror_mode": {
    "name": "ipython",
    "version": 3
   },
   "file_extension": ".py",
   "mimetype": "text/x-python",
   "name": "python",
   "nbconvert_exporter": "python",
   "pygments_lexer": "ipython3",
   "version": "3.9.0"
  },
  "orig_nbformat": 4,
  "vscode": {
   "interpreter": {
    "hash": "81794d4967e6c3204c66dcd87b604927b115b27c00565d3d43f05ba2f3a2cb0d"
   }
  }
 },
 "nbformat": 4,
 "nbformat_minor": 2
}
